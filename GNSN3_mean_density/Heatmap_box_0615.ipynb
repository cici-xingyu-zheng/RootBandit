{
 "cells": [
  {
   "cell_type": "markdown",
   "metadata": {},
   "source": [
    "Plot mean root length for all patches in different growth conditions."
   ]
  },
  {
   "cell_type": "code",
   "execution_count": 1,
   "metadata": {},
   "outputs": [],
   "source": [
    "from matplotlib.patches import Rectangle\n",
    "from matplotlib.collections import PatchCollection\n",
    "import matplotlib\n",
    "import matplotlib.pyplot as plt\n",
    "import pandas as pd\n",
    "import numpy as np"
   ]
  },
  {
   "cell_type": "markdown",
   "metadata": {},
   "source": [
    "------\n",
    "\n",
    "# L"
   ]
  },
  {
   "cell_type": "code",
   "execution_count": 98,
   "metadata": {},
   "outputs": [],
   "source": [
    "L_df = pd.read_csv('L.csv')\n",
    "L_df['Patch/Row'] = L_df['Patch/Row'].astype(str)\n",
    "L_df['Cube'] = L_df['Side/Column'] + L_df['Patch/Row']"
   ]
  },
  {
   "cell_type": "code",
   "execution_count": 99,
   "metadata": {},
   "outputs": [],
   "source": [
    "cubes = ['A1', 'A2', 'A3', 'B1', 'B2', 'B3']\n",
    "\n",
    "lengths = []\n",
    "for cube in cubes: \n",
    "    lengths.append(L_df.loc[L_df['Cube'] == cube, 'Total root length (mm)'].mean())\n"
   ]
  },
  {
   "cell_type": "code",
   "execution_count": 100,
   "metadata": {},
   "outputs": [
    {
     "data": {
      "text/plain": [
       "[141.9803,\n",
       " 105.09270000000001,\n",
       " 3.4221999999999992,\n",
       " 116.76440000000002,\n",
       " 82.82600000000001,\n",
       " 5.2824]"
      ]
     },
     "execution_count": 100,
     "metadata": {},
     "output_type": "execute_result"
    }
   ],
   "source": [
    "lengths"
   ]
  },
  {
   "cell_type": "code",
   "execution_count": 42,
   "metadata": {},
   "outputs": [],
   "source": [
    "medium = [1, 0, 0, 1, 0, 0]"
   ]
  },
  {
   "cell_type": "code",
   "execution_count": 74,
   "metadata": {},
   "outputs": [
    {
     "data": {
      "image/png": "[encoded data removed]",
      "text/plain": [
       "<Figure size 1152x648 with 4 Axes>"
      ]
     },
     "metadata": {
      "needs_background": "light"
     },
     "output_type": "display_data"
    }
   ],
   "source": [
    "fig = plt.figure(figsize=(16, 9))\n",
    "ax0 = fig.add_subplot(121)\n",
    "ax1 = fig.add_subplot(122)\n",
    "\n",
    "\n",
    "A1 = Rectangle((0, 26.5), width = 20, height= 7)\n",
    "A2 = Rectangle((0, 12.5), width = 20, height= 13.5)\n",
    "A3 = Rectangle((0,0), width = 20, height= 12)\n",
    "\n",
    "B1 = Rectangle((20.5,26.5), width = 20, height= 7)\n",
    "B2 = Rectangle((20.5, 12.5), width = 20, height= 13.5)\n",
    "B3 = Rectangle((20.5,0), width = 20, height= 12)\n",
    "\n",
    "patches =  [A1, A2, A3, B1, B2, B3]\n",
    "colors_ax0 = np.array(lengths)\n",
    "colors_ax1 = np.array(medium)\n",
    "\n",
    "p = PatchCollection(patches, cmap=matplotlib.cm.Greens)\n",
    "p.set_array(colors_ax0)\n",
    "p.set_clim([0, max(lengths)])\n",
    "\n",
    "length_plot = ax0.add_collection(p)\n",
    "ax0.set_xlim([0,41])\n",
    "ax0.set_ylim([0,33.5])\n",
    "ax0.set_xticks([])\n",
    "ax0.set_yticks([])\n",
    "ax0.set_title('mean length', fontsize = 14)\n",
    "\n",
    "plt.colorbar(length_plot,ax=ax0, orientation='horizontal')\n",
    "\n",
    "\n",
    "m = PatchCollection(patches, cmap=matplotlib.cm.Greys)\n",
    "m.set_array(colors_ax1)\n",
    "m.set_clim([-.3, 2])\n",
    "\n",
    "medium_plot = ax1.add_collection(m)\n",
    "ax1.set_xlim([0,41])\n",
    "ax1.set_ylim([0,33.5])\n",
    "ax1.set_xticks([])\n",
    "ax1.set_yticks([])\n",
    "ax1.set_title('medium N concentration (mM)', fontsize = 14)\n",
    "\n",
    "\n",
    "fig.suptitle('mean root length heat map', fontsize=16)\n",
    "\n",
    "plt.colorbar(medium_plot,ax=ax1, orientation='horizontal')\n",
    "plt.show()\n",
    "\n",
    "fig.savefig('plots/L_ave_len_heatmap.pdf')\n"
   ]
  },
  {
   "cell_type": "markdown",
   "metadata": {},
   "source": [
    "-----------------\n",
    "# M"
   ]
  },
  {
   "cell_type": "code",
   "execution_count": 101,
   "metadata": {},
   "outputs": [],
   "source": [
    "M_df = pd.read_csv('M.csv')\n",
    "M_df['Patch/Row'] = M_df['Patch/Row'].astype(str)\n",
    "M_df['Cube'] = M_df['Side/Column'] + M_df['Patch/Row']"
   ]
  },
  {
   "cell_type": "code",
   "execution_count": 102,
   "metadata": {},
   "outputs": [],
   "source": [
    "cubes = ['A1', 'A2', 'A3', 'B1', 'B2', 'B3']\n",
    "\n",
    "lengths = []\n",
    "for cube in cubes: \n",
    "    lengths.append(M_df.loc[M_df['Cube'] == cube, 'Total root length (mm)'].mean())\n"
   ]
  },
  {
   "cell_type": "code",
   "execution_count": 103,
   "metadata": {},
   "outputs": [
    {
     "data": {
      "text/plain": [
       "[106.9141, 200.0374, 44.5885, 149.3189, 238.63709999999998, 28.879400000000004]"
      ]
     },
     "execution_count": 103,
     "metadata": {},
     "output_type": "execute_result"
    }
   ],
   "source": [
    "lengths"
   ]
  },
  {
   "cell_type": "code",
   "execution_count": 81,
   "metadata": {},
   "outputs": [],
   "source": [
    "medium = [1]*6"
   ]
  },
  {
   "cell_type": "code",
   "execution_count": 82,
   "metadata": {},
   "outputs": [
    {
     "data": {
      "image/png": "[encoded data removed]",
      "text/plain": [
       "<Figure size 1152x648 with 4 Axes>"
      ]
     },
     "metadata": {
      "needs_background": "light"
     },
     "output_type": "display_data"
    }
   ],
   "source": [
    "fig = plt.figure(figsize=(16, 9))\n",
    "ax0 = fig.add_subplot(121)\n",
    "ax1 = fig.add_subplot(122)\n",
    "\n",
    "\n",
    "A1 = Rectangle((0, 26.5), width = 20, height= 7)\n",
    "A2 = Rectangle((0, 12.5), width = 20, height= 13.5)\n",
    "A3 = Rectangle((0,0), width = 20, height= 12)\n",
    "\n",
    "B1 = Rectangle((20.5,26.5), width = 20, height= 7)\n",
    "B2 = Rectangle((20.5, 12.5), width = 20, height= 13.5)\n",
    "B3 = Rectangle((20.5,0), width = 20, height= 12)\n",
    "\n",
    "patches =  [A1, A2, A3, B1, B2, B3]\n",
    "colors_ax0 = np.array(lengths)\n",
    "colors_ax1 = np.array(medium)\n",
    "\n",
    "p = PatchCollection(patches, cmap=matplotlib.cm.Greens)\n",
    "p.set_array(colors_ax0)\n",
    "p.set_clim([0, max(lengths)])\n",
    "\n",
    "length_plot = ax0.add_collection(p)\n",
    "ax0.set_xlim([0,41])\n",
    "ax0.set_ylim([0,33.5])\n",
    "ax0.set_xticks([])\n",
    "ax0.set_yticks([])\n",
    "ax0.set_title('mean length', fontsize = 14)\n",
    "\n",
    "plt.colorbar(length_plot,ax=ax0, orientation='horizontal')\n",
    "\n",
    "\n",
    "m = PatchCollection(patches, cmap=matplotlib.cm.Greys)\n",
    "m.set_array(colors_ax1)\n",
    "m.set_clim([-.3, 2])\n",
    "\n",
    "medium_plot = ax1.add_collection(m)\n",
    "ax1.set_xlim([0,41])\n",
    "ax1.set_ylim([0,33.5])\n",
    "ax1.set_xticks([])\n",
    "ax1.set_yticks([])\n",
    "ax1.set_title('medium N concentration (mM)', fontsize = 14)\n",
    "\n",
    "\n",
    "fig.suptitle('mean root length heat map', fontsize=16)\n",
    "\n",
    "plt.colorbar(medium_plot,ax=ax1, orientation='horizontal')\n",
    "plt.show()\n",
    "\n",
    "fig.savefig('plots/M_ave_len_heatmap.pdf')\n"
   ]
  },
  {
   "cell_type": "markdown",
   "metadata": {},
   "source": [
    "-----------------\n",
    "# ML.left"
   ]
  },
  {
   "cell_type": "code",
   "execution_count": 137,
   "metadata": {},
   "outputs": [],
   "source": [
    "ML_df = pd.read_csv('ML.csv')\n",
    "ML_df['Patch/Row'] = ML_df['Patch/Row'].astype(str)\n",
    "ML_df['Cube'] = ML_df['Side/Column'] + ML_df['Patch/Row']"
   ]
  },
  {
   "cell_type": "code",
   "execution_count": 138,
   "metadata": {},
   "outputs": [],
   "source": [
    "ML_df_left = ML_df.iloc[0:30]"
   ]
  },
  {
   "cell_type": "code",
   "execution_count": 139,
   "metadata": {},
   "outputs": [],
   "source": [
    "cubes = ['A1', 'A2', 'A3', 'B1', 'B2', 'B3']\n",
    "\n",
    "lengths = []\n",
    "for cube in cubes: \n",
    "   lengths.append(ML_df_left.loc[ML_df_left['Cube'] == cube, 'Total root length (mm)'].mean())"
   ]
  },
  {
   "cell_type": "code",
   "execution_count": 140,
   "metadata": {},
   "outputs": [],
   "source": [
    "medium = [1, 1, 1, 1, 0, 0]"
   ]
  },
  {
   "cell_type": "code",
   "execution_count": 142,
   "metadata": {},
   "outputs": [
    {
     "data": {
      "image/png": "[encoded data removed]",
      "text/plain": [
       "<Figure size 1152x648 with 4 Axes>"
      ]
     },
     "metadata": {
      "needs_background": "light"
     },
     "output_type": "display_data"
    }
   ],
   "source": [
    "fig = plt.figure(figsize=(16, 9))\n",
    "ax0 = fig.add_subplot(121)\n",
    "ax1 = fig.add_subplot(122)\n",
    "\n",
    "\n",
    "A1 = Rectangle((0, 26.5), width = 20, height= 7)\n",
    "A2 = Rectangle((0, 12.5), width = 20, height= 13.5)\n",
    "A3 = Rectangle((0,0), width = 20, height= 12)\n",
    "\n",
    "B1 = Rectangle((20.5,26.5), width = 20, height= 7)\n",
    "B2 = Rectangle((20.5, 12.5), width = 20, height= 13.5)\n",
    "B3 = Rectangle((20.5,0), width = 20, height= 12)\n",
    "\n",
    "patches =  [A1, A2, A3, B1, B2, B3]\n",
    "colors_ax0 = np.array(lengths)\n",
    "colors_ax1 = np.array(medium)\n",
    "\n",
    "p = PatchCollection(patches, cmap=matplotlib.cm.Greens)\n",
    "p.set_array(colors_ax0)\n",
    "p.set_clim([0, max(lengths)])\n",
    "\n",
    "length_plot = ax0.add_collection(p)\n",
    "ax0.set_xlim([0,41])\n",
    "ax0.set_ylim([0,33.5])\n",
    "ax0.set_xticks([])\n",
    "ax0.set_yticks([])\n",
    "ax0.set_title('mean length', fontsize = 14)\n",
    "\n",
    "plt.colorbar(length_plot,ax=ax0, orientation='horizontal')\n",
    "\n",
    "\n",
    "m = PatchCollection(patches, cmap=matplotlib.cm.Greys)\n",
    "m.set_array(colors_ax1)\n",
    "m.set_clim([-.3, 2])\n",
    "\n",
    "medium_plot = ax1.add_collection(m)\n",
    "ax1.set_xlim([0,41])\n",
    "ax1.set_ylim([0,33.5])\n",
    "ax1.set_xticks([])\n",
    "ax1.set_yticks([])\n",
    "ax1.set_title('medium N concentration (mM)', fontsize = 14)\n",
    "\n",
    "\n",
    "fig.suptitle('mean root length heat map', fontsize=16)\n",
    "\n",
    "plt.colorbar(medium_plot,ax=ax1, orientation='horizontal')\n",
    "plt.show()\n",
    "\n",
    "fig.savefig('plots/ML_left_ave_len_heatmap.pdf')\n"
   ]
  },
  {
   "cell_type": "markdown",
   "metadata": {},
   "source": [
    "# ML.right"
   ]
  },
  {
   "cell_type": "code",
   "execution_count": 144,
   "metadata": {},
   "outputs": [],
   "source": [
    "ML_df_right = ML_df.iloc[30:]"
   ]
  },
  {
   "cell_type": "code",
   "execution_count": 148,
   "metadata": {},
   "outputs": [],
   "source": [
    "cubes = ['B1', 'B2', 'B3', 'A1', 'A2', 'A3']\n",
    "\n",
    "lengths = []\n",
    "for cube in cubes: \n",
    "   lengths.append(ML_df_right.loc[ML_df_right['Cube'] == cube, 'Total root length (mm)'].mean())"
   ]
  },
  {
   "cell_type": "code",
   "execution_count": 149,
   "metadata": {},
   "outputs": [],
   "source": [
    "medium = [1, 0, 0, 1, 1, 1]"
   ]
  },
  {
   "cell_type": "code",
   "execution_count": 150,
   "metadata": {},
   "outputs": [
    {
     "data": {
      "image/png": "[encoded data removed]",
      "text/plain": [
       "<Figure size 1152x648 with 4 Axes>"
      ]
     },
     "metadata": {
      "needs_background": "light"
     },
     "output_type": "display_data"
    }
   ],
   "source": [
    "fig = plt.figure(figsize=(16, 9))\n",
    "ax0 = fig.add_subplot(121)\n",
    "ax1 = fig.add_subplot(122)\n",
    "\n",
    "\n",
    "A1 = Rectangle((0, 26.5), width = 20, height= 7)\n",
    "A2 = Rectangle((0, 12.5), width = 20, height= 13.5)\n",
    "A3 = Rectangle((0,0), width = 20, height= 12)\n",
    "\n",
    "B1 = Rectangle((20.5,26.5), width = 20, height= 7)\n",
    "B2 = Rectangle((20.5, 12.5), width = 20, height= 13.5)\n",
    "B3 = Rectangle((20.5,0), width = 20, height= 12)\n",
    "\n",
    "patches =  [A1, A2, A3, B1, B2, B3]\n",
    "colors_ax0 = np.array(lengths)\n",
    "colors_ax1 = np.array(medium)\n",
    "\n",
    "p = PatchCollection(patches, cmap=matplotlib.cm.Greens)\n",
    "p.set_array(colors_ax0)\n",
    "p.set_clim([0, max(lengths)])\n",
    "\n",
    "length_plot = ax0.add_collection(p)\n",
    "ax0.set_xlim([0,41])\n",
    "ax0.set_ylim([0,33.5])\n",
    "ax0.set_xticks([])\n",
    "ax0.set_yticks([])\n",
    "ax0.set_title('mean length', fontsize = 14)\n",
    "\n",
    "plt.colorbar(length_plot,ax=ax0, orientation='horizontal')\n",
    "\n",
    "\n",
    "m = PatchCollection(patches, cmap=matplotlib.cm.Greys)\n",
    "m.set_array(colors_ax1)\n",
    "m.set_clim([-.3, 2])\n",
    "\n",
    "medium_plot = ax1.add_collection(m)\n",
    "ax1.set_xlim([0,41])\n",
    "ax1.set_ylim([0,33.5])\n",
    "ax1.set_xticks([])\n",
    "ax1.set_yticks([])\n",
    "ax1.set_title('medium N concentration (mM)', fontsize = 14)\n",
    "\n",
    "\n",
    "fig.suptitle('mean root length heat map', fontsize=16)\n",
    "\n",
    "plt.colorbar(medium_plot,ax=ax1, orientation='horizontal')\n",
    "plt.show()\n",
    "\n",
    "fig.savefig('plots/ML_right_ave_len_heatmap.pdf')\n"
   ]
  },
  {
   "cell_type": "markdown",
   "metadata": {},
   "source": [
    "-----------------\n",
    "# MH.left"
   ]
  },
  {
   "cell_type": "code",
   "execution_count": 180,
   "metadata": {},
   "outputs": [],
   "source": [
    "MH_df = pd.read_csv('MH.csv')\n",
    "MH_df['Patch/Row'] = MH_df['Patch/Row'].astype(str)\n",
    "MH_df['Cube'] = MH_df['Side/Column'] + MH_df['Patch/Row']"
   ]
  },
  {
   "cell_type": "code",
   "execution_count": 181,
   "metadata": {},
   "outputs": [],
   "source": [
    "MH_df_left = MH_df.iloc[0:30]"
   ]
  },
  {
   "cell_type": "code",
   "execution_count": 182,
   "metadata": {},
   "outputs": [],
   "source": [
    "cubes = ['A1', 'A2', 'A3', 'B1', 'B2', 'B3']\n",
    "\n",
    "lengths = []\n",
    "for cube in cubes: \n",
    "   lengths.append(MH_df_left.loc[MH_df_left['Cube'] == cube, 'Total root length (mm)'].mean())"
   ]
  },
  {
   "cell_type": "code",
   "execution_count": 183,
   "metadata": {},
   "outputs": [],
   "source": [
    "medium = [1, 1, 5, 1, 1, 1]"
   ]
  },
  {
   "cell_type": "code",
   "execution_count": 184,
   "metadata": {},
   "outputs": [
    {
     "data": {
      "image/png": "[encoded data removed]",
      "text/plain": [
       "<Figure size 1152x648 with 4 Axes>"
      ]
     },
     "metadata": {
      "needs_background": "light"
     },
     "output_type": "display_data"
    }
   ],
   "source": [
    "fig = plt.figure(figsize=(16, 9))\n",
    "ax0 = fig.add_subplot(121)\n",
    "ax1 = fig.add_subplot(122)\n",
    "\n",
    "\n",
    "A1 = Rectangle((0, 26.5), width = 20, height= 7)\n",
    "A2 = Rectangle((0, 12.5), width = 20, height= 13.5)\n",
    "A3 = Rectangle((0,0), width = 20, height= 12)\n",
    "\n",
    "B1 = Rectangle((20.5,26.5), width = 20, height= 7)\n",
    "B2 = Rectangle((20.5, 12.5), width = 20, height= 13.5)\n",
    "B3 = Rectangle((20.5,0), width = 20, height= 12)\n",
    "\n",
    "patches =  [A1, A2, A3, B1, B2, B3]\n",
    "colors_ax0 = np.array(lengths)\n",
    "colors_ax1 = np.array(medium)\n",
    "\n",
    "p = PatchCollection(patches, cmap=matplotlib.cm.Greens)\n",
    "p.set_array(colors_ax0)\n",
    "p.set_clim([0, max(lengths)])\n",
    "\n",
    "length_plot = ax0.add_collection(p)\n",
    "ax0.set_xlim([0,41])\n",
    "ax0.set_ylim([0,33.5])\n",
    "ax0.set_xticks([])\n",
    "ax0.set_yticks([])\n",
    "ax0.set_title('mean length', fontsize = 14)\n",
    "\n",
    "plt.colorbar(length_plot,ax=ax0, orientation='horizontal')\n",
    "\n",
    "\n",
    "m = PatchCollection(patches, cmap=matplotlib.cm.Greys)\n",
    "m.set_array(colors_ax1)\n",
    "m.set_clim([-.3, 2])\n",
    "\n",
    "medium_plot = ax1.add_collection(m)\n",
    "ax1.set_xlim([0,41])\n",
    "ax1.set_ylim([0,33.5])\n",
    "ax1.set_xticks([])\n",
    "ax1.set_yticks([])\n",
    "ax1.set_title('medium N concentration (mM)', fontsize = 14)\n",
    "\n",
    "\n",
    "fig.suptitle('mean root length heat map', fontsize=16)\n",
    "\n",
    "plt.colorbar(medium_plot,ax=ax1, orientation='horizontal')\n",
    "plt.show()\n",
    "\n",
    "fig.savefig('plots/MH_left_ave_len_heatmap.pdf')\n"
   ]
  },
  {
   "cell_type": "markdown",
   "metadata": {},
   "source": [
    "# MH.right"
   ]
  },
  {
   "cell_type": "code",
   "execution_count": 165,
   "metadata": {},
   "outputs": [],
   "source": [
    "MH_df_right = MH_df.iloc[30:]"
   ]
  },
  {
   "cell_type": "code",
   "execution_count": 166,
   "metadata": {},
   "outputs": [],
   "source": [
    "cubes = ['B1', 'B2', 'B3', 'A1', 'A2', 'A3']\n",
    "\n",
    "lengths = []\n",
    "for cube in cubes: \n",
    "   lengths.append(MH_df_right.loc[MH_df_right['Cube'] == cube, 'Total root length (mm)'].mean())"
   ]
  },
  {
   "cell_type": "code",
   "execution_count": 167,
   "metadata": {},
   "outputs": [],
   "source": [
    "medium = [1, 1, 1, 1, 1, 5]"
   ]
  },
  {
   "cell_type": "code",
   "execution_count": 168,
   "metadata": {},
   "outputs": [
    {
     "data": {
      "image/png": "[encoded data removed]",
      "text/plain": [
       "<Figure size 1152x648 with 4 Axes>"
      ]
     },
     "metadata": {
      "needs_background": "light"
     },
     "output_type": "display_data"
    }
   ],
   "source": [
    "fig = plt.figure(figsize=(16, 9))\n",
    "ax0 = fig.add_subplot(121)\n",
    "ax1 = fig.add_subplot(122)\n",
    "\n",
    "\n",
    "A1 = Rectangle((0, 26.5), width = 20, height= 7)\n",
    "A2 = Rectangle((0, 12.5), width = 20, height= 13.5)\n",
    "A3 = Rectangle((0,0), width = 20, height= 12)\n",
    "\n",
    "B1 = Rectangle((20.5,26.5), width = 20, height= 7)\n",
    "B2 = Rectangle((20.5, 12.5), width = 20, height= 13.5)\n",
    "B3 = Rectangle((20.5,0), width = 20, height= 12)\n",
    "\n",
    "patches =  [A1, A2, A3, B1, B2, B3]\n",
    "colors_ax0 = np.array(lengths)\n",
    "colors_ax1 = np.array(medium)\n",
    "\n",
    "p = PatchCollection(patches, cmap=matplotlib.cm.Greens)\n",
    "p.set_array(colors_ax0)\n",
    "p.set_clim([0, max(lengths)])\n",
    "\n",
    "length_plot = ax0.add_collection(p)\n",
    "ax0.set_xlim([0,41])\n",
    "ax0.set_ylim([0,33.5])\n",
    "ax0.set_xticks([])\n",
    "ax0.set_yticks([])\n",
    "ax0.set_title('mean length', fontsize = 14)\n",
    "\n",
    "plt.colorbar(length_plot,ax=ax0, orientation='horizontal')\n",
    "\n",
    "\n",
    "m = PatchCollection(patches, cmap=matplotlib.cm.Greys)\n",
    "m.set_array(colors_ax1)\n",
    "m.set_clim([-.3, 2])\n",
    "\n",
    "medium_plot = ax1.add_collection(m)\n",
    "ax1.set_xlim([0,41])\n",
    "ax1.set_ylim([0,33.5])\n",
    "ax1.set_xticks([])\n",
    "ax1.set_yticks([])\n",
    "ax1.set_title('medium N concentration (mM)', fontsize = 14)\n",
    "\n",
    "\n",
    "fig.suptitle('mean root length heat map', fontsize=16)\n",
    "\n",
    "plt.colorbar(medium_plot,ax=ax1, orientation='horizontal')\n",
    "plt.show()\n",
    "\n",
    "fig.savefig('plots/MH_right_ave_len_heatmap.pdf')\n"
   ]
  },
  {
   "cell_type": "code",
   "execution_count": null,
   "metadata": {},
   "outputs": [],
   "source": []
  },
  {
   "cell_type": "markdown",
   "metadata": {},
   "source": [
    "-----------------\n",
    "# MLH.left"
   ]
  },
  {
   "cell_type": "code",
   "execution_count": 186,
   "metadata": {},
   "outputs": [],
   "source": [
    "MLH_df = pd.read_csv('MLH.csv')\n",
    "MLH_df['Patch/Row'] = MLH_df['Patch/Row'].astype(str)\n",
    "MLH_df['Cube'] = MLH_df['Side/Column'] + MLH_df['Patch/Row']"
   ]
  },
  {
   "cell_type": "code",
   "execution_count": 187,
   "metadata": {},
   "outputs": [],
   "source": [
    "MLH_df_left = MLH_df.iloc[0:30]"
   ]
  },
  {
   "cell_type": "code",
   "execution_count": 188,
   "metadata": {},
   "outputs": [],
   "source": [
    "cubes = ['B1', 'B2', 'B3', 'A1', 'A2', 'A3']\n",
    "\n",
    "lengths = []\n",
    "for cube in cubes: \n",
    "   lengths.append(MLH_df_left.loc[MLH_df_left['Cube'] == cube, 'Total root length (mm)'].mean())"
   ]
  },
  {
   "cell_type": "code",
   "execution_count": 189,
   "metadata": {},
   "outputs": [],
   "source": [
    "medium = [1, 0, 5, 1, 1, 1]"
   ]
  },
  {
   "cell_type": "code",
   "execution_count": 190,
   "metadata": {},
   "outputs": [
    {
     "data": {
      "image/png": "[encoded data removed]",
      "text/plain": [
       "<Figure size 1152x648 with 4 Axes>"
      ]
     },
     "metadata": {
      "needs_background": "light"
     },
     "output_type": "display_data"
    }
   ],
   "source": [
    "fig = plt.figure(figsize=(16, 9))\n",
    "ax0 = fig.add_subplot(121)\n",
    "ax1 = fig.add_subplot(122)\n",
    "\n",
    "\n",
    "A1 = Rectangle((0, 26.5), width = 20, height= 7)\n",
    "A2 = Rectangle((0, 12.5), width = 20, height= 13.5)\n",
    "A3 = Rectangle((0,0), width = 20, height= 12)\n",
    "\n",
    "B1 = Rectangle((20.5,26.5), width = 20, height= 7)\n",
    "B2 = Rectangle((20.5, 12.5), width = 20, height= 13.5)\n",
    "B3 = Rectangle((20.5,0), width = 20, height= 12)\n",
    "\n",
    "patches =  [A1, A2, A3, B1, B2, B3]\n",
    "colors_ax0 = np.array(lengths)\n",
    "colors_ax1 = np.array(medium)\n",
    "\n",
    "p = PatchCollection(patches, cmap=matplotlib.cm.Greens)\n",
    "p.set_array(colors_ax0)\n",
    "p.set_clim([0, max(lengths)])\n",
    "\n",
    "length_plot = ax0.add_collection(p)\n",
    "ax0.set_xlim([0,41])\n",
    "ax0.set_ylim([0,33.5])\n",
    "ax0.set_xticks([])\n",
    "ax0.set_yticks([])\n",
    "ax0.set_title('mean length', fontsize = 14)\n",
    "\n",
    "plt.colorbar(length_plot,ax=ax0, orientation='horizontal')\n",
    "\n",
    "\n",
    "m = PatchCollection(patches, cmap=matplotlib.cm.Greys)\n",
    "m.set_array(colors_ax1)\n",
    "m.set_clim([-.3, 2])\n",
    "\n",
    "medium_plot = ax1.add_collection(m)\n",
    "ax1.set_xlim([0,41])\n",
    "ax1.set_ylim([0,33.5])\n",
    "ax1.set_xticks([])\n",
    "ax1.set_yticks([])\n",
    "ax1.set_title('medium N concentration (mM)', fontsize = 14)\n",
    "\n",
    "\n",
    "fig.suptitle('mean root length heat map', fontsize=16)\n",
    "\n",
    "plt.colorbar(medium_plot,ax=ax1, orientation='horizontal')\n",
    "plt.show()\n",
    "\n",
    "fig.savefig('plots/MLH_left_ave_len_heatmap.pdf')\n"
   ]
  },
  {
   "cell_type": "markdown",
   "metadata": {},
   "source": [
    "# MH.right"
   ]
  },
  {
   "cell_type": "code",
   "execution_count": 191,
   "metadata": {},
   "outputs": [],
   "source": [
    "MLH_df_right = MLH_df.iloc[30:]"
   ]
  },
  {
   "cell_type": "code",
   "execution_count": 192,
   "metadata": {},
   "outputs": [],
   "source": [
    "cubes = ['A1', 'A2', 'A3', 'B1', 'B2', 'B3']\n",
    "\n",
    "lengths = []\n",
    "for cube in cubes: \n",
    "   lengths.append(MLH_df_right.loc[MLH_df_right['Cube'] == cube, 'Total root length (mm)'].mean())"
   ]
  },
  {
   "cell_type": "code",
   "execution_count": 193,
   "metadata": {},
   "outputs": [],
   "source": [
    "medium = [1, 1, 1, 1, 0, 5]"
   ]
  },
  {
   "cell_type": "code",
   "execution_count": 194,
   "metadata": {},
   "outputs": [
    {
     "data": {
      "image/png": "[encoded data removed]",
      "text/plain": [
       "<Figure size 1152x648 with 4 Axes>"
      ]
     },
     "metadata": {
      "needs_background": "light"
     },
     "output_type": "display_data"
    }
   ],
   "source": [
    "fig = plt.figure(figsize=(16, 9))\n",
    "ax0 = fig.add_subplot(121)\n",
    "ax1 = fig.add_subplot(122)\n",
    "\n",
    "\n",
    "A1 = Rectangle((0, 26.5), width = 20, height= 7)\n",
    "A2 = Rectangle((0, 12.5), width = 20, height= 13.5)\n",
    "A3 = Rectangle((0,0), width = 20, height= 12)\n",
    "\n",
    "B1 = Rectangle((20.5,26.5), width = 20, height= 7)\n",
    "B2 = Rectangle((20.5, 12.5), width = 20, height= 13.5)\n",
    "B3 = Rectangle((20.5,0), width = 20, height= 12)\n",
    "\n",
    "patches =  [A1, A2, A3, B1, B2, B3]\n",
    "colors_ax0 = np.array(lengths)\n",
    "colors_ax1 = np.array(medium)\n",
    "\n",
    "p = PatchCollection(patches, cmap=matplotlib.cm.Greens)\n",
    "p.set_array(colors_ax0)\n",
    "p.set_clim([0, max(lengths)])\n",
    "\n",
    "length_plot = ax0.add_collection(p)\n",
    "ax0.set_xlim([0,41])\n",
    "ax0.set_ylim([0,33.5])\n",
    "ax0.set_xticks([])\n",
    "ax0.set_yticks([])\n",
    "ax0.set_title('mean length', fontsize = 14)\n",
    "\n",
    "plt.colorbar(length_plot,ax=ax0, orientation='horizontal')\n",
    "\n",
    "\n",
    "m = PatchCollection(patches, cmap=matplotlib.cm.Greys)\n",
    "m.set_array(colors_ax1)\n",
    "m.set_clim([-.3, 2])\n",
    "\n",
    "medium_plot = ax1.add_collection(m)\n",
    "ax1.set_xlim([0,41])\n",
    "ax1.set_ylim([0,33.5])\n",
    "ax1.set_xticks([])\n",
    "ax1.set_yticks([])\n",
    "ax1.set_title('medium N concentration (mM)', fontsize = 14)\n",
    "\n",
    "\n",
    "fig.suptitle('mean root length heat map', fontsize=16)\n",
    "\n",
    "plt.colorbar(medium_plot,ax=ax1, orientation='horizontal')\n",
    "plt.show()\n",
    "\n",
    "fig.savefig('plots/MLH_right_ave_len_heatmap.pdf')\n"
   ]
  },
  {
   "cell_type": "code",
   "execution_count": null,
   "metadata": {},
   "outputs": [],
   "source": []
  }
 ],
 "metadata": {
  "interpreter": {
   "hash": "99b6aaccea0ef8f3630693367a20130efcb7b7104c4ce0548ee5f1abf61f8eca"
  },
  "kernelspec": {
   "display_name": "Python 3.8.3",
   "language": "python",
   "name": "python3"
  },
  "language_info": {
   "codemirror_mode": {
    "name": "ipython",
    "version": 3
   },
   "file_extension": ".py",
   "mimetype": "text/x-python",
   "name": "python",
   "nbconvert_exporter": "python",
   "pygments_lexer": "ipython3",
   "version": "3.8.3"
  },
  "orig_nbformat": 4
 },
 "nbformat": 4,
 "nbformat_minor": 2
}
